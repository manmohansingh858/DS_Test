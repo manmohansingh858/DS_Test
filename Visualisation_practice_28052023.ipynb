{
 "cells": [
  {
   "cell_type": "code",
   "execution_count": 2,
   "id": "8be01bb7-3891-4e31-9718-d8392ae6ca00",
   "metadata": {},
   "outputs": [],
   "source": [
    "import matplotlib.pyplot as plt"
   ]
  },
  {
   "cell_type": "code",
   "execution_count": 3,
   "id": "0dcae2e2-5e67-4128-a37f-8aa35143aede",
   "metadata": {},
   "outputs": [],
   "source": [
    "%matplotlib inline"
   ]
  },
  {
   "cell_type": "markdown",
   "id": "b9d8c95b-dfaa-4400-82fa-25027b82aba7",
   "metadata": {},
   "source": [
    "# Random Variable and Probability "
   ]
  },
  {
   "cell_type": "code",
   "execution_count": 1,
   "id": "a9a88d2d-8491-414b-a9ef-ad4ae160b827",
   "metadata": {},
   "outputs": [],
   "source": [
    "from scipy import stats"
   ]
  },
  {
   "cell_type": "code",
   "execution_count": 2,
   "id": "0f961f06-0d9a-4f6d-b9b2-a89b1a78b063",
   "metadata": {},
   "outputs": [
    {
     "data": {
      "text/plain": [
       "0.4096010167005918"
      ]
     },
     "execution_count": 2,
     "metadata": {},
     "output_type": "execute_result"
    }
   ],
   "source": [
    "stats.norm.cdf(32,40,35)"
   ]
  },
  {
   "cell_type": "code",
   "execution_count": 3,
   "id": "d10b3f34-cfc5-451d-80ef-2bbc7a5af86c",
   "metadata": {},
   "outputs": [
    {
     "data": {
      "text/plain": [
       "0.5903989832994082"
      ]
     },
     "execution_count": 3,
     "metadata": {},
     "output_type": "execute_result"
    }
   ],
   "source": [
    "1-stats.norm.cdf(32,40,35)"
   ]
  },
  {
   "cell_type": "code",
   "execution_count": 4,
   "id": "0f2334b0-fa7a-4ee2-8f22-578ff90ef2f0",
   "metadata": {},
   "outputs": [
    {
     "data": {
      "text/plain": [
       "0.14254260383881612"
      ]
     },
     "execution_count": 4,
     "metadata": {},
     "output_type": "execute_result"
    }
   ],
   "source": [
    "stats.norm.cdf(680,711,29)"
   ]
  },
  {
   "cell_type": "code",
   "execution_count": 7,
   "id": "d25a5ed7-c2fa-461c-99bb-6208d1fdd1ec",
   "metadata": {},
   "outputs": [],
   "source": [
    "a= stats.norm.cdf(697,711,29)"
   ]
  },
  {
   "cell_type": "code",
   "execution_count": 8,
   "id": "ce7f7273-be61-458d-a5fc-3f96b5c7c8f2",
   "metadata": {},
   "outputs": [],
   "source": [
    "b= stats.norm.cdf(740,711,29)"
   ]
  },
  {
   "cell_type": "code",
   "execution_count": 12,
   "id": "f393c828-7a44-429b-9e60-5371b72e932d",
   "metadata": {},
   "outputs": [
    {
     "data": {
      "text/plain": [
       "-0.5267111786415019"
      ]
     },
     "execution_count": 12,
     "metadata": {},
     "output_type": "execute_result"
    }
   ],
   "source": [
    "a-b"
   ]
  },
  {
   "cell_type": "code",
   "execution_count": null,
   "id": "b967d92a-fe14-4255-84a2-6630ef27112f",
   "metadata": {},
   "outputs": [],
   "source": []
  }
 ],
 "metadata": {
  "kernelspec": {
   "display_name": "Python 3 (ipykernel)",
   "language": "python",
   "name": "python3"
  },
  "language_info": {
   "codemirror_mode": {
    "name": "ipython",
    "version": 3
   },
   "file_extension": ".py",
   "mimetype": "text/x-python",
   "name": "python",
   "nbconvert_exporter": "python",
   "pygments_lexer": "ipython3",
   "version": "3.10.9"
  }
 },
 "nbformat": 4,
 "nbformat_minor": 5
}
